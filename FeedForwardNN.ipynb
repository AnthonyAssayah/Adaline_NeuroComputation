{
  "nbformat": 4,
  "nbformat_minor": 0,
  "metadata": {
    "colab": {
      "provenance": [],
      "authorship_tag": "ABX9TyMH7XMcLbjZBKz13h8vbt6/",
      "include_colab_link": true
    },
    "kernelspec": {
      "name": "python3",
      "display_name": "Python 3"
    },
    "language_info": {
      "name": "python"
    }
  },
  "cells": [
    {
      "cell_type": "markdown",
      "metadata": {
        "id": "view-in-github",
        "colab_type": "text"
      },
      "source": [
        "<a href=\"https://colab.research.google.com/github/AnthonyAssayah/Adaline_NeuroComputation/blob/main/FeedForwardNN.ipynb\" target=\"_parent\"><img src=\"https://colab.research.google.com/assets/colab-badge.svg\" alt=\"Open In Colab\"/></a>"
      ]
    },
    {
      "cell_type": "code",
      "execution_count": 3,
      "metadata": {
        "id": "RMza1yYWrba4"
      },
      "outputs": [],
      "source": [
        "import os\n",
        "import pandas as pd\n",
        "import numpy as np\n",
        "from sklearn.model_selection import StratifiedKFold\n",
        "from sklearn.preprocessing import StandardScaler\n",
        "from sklearn.metrics import confusion_matrix, classification_report\n",
        "import seaborn as sns\n",
        "import matplotlib.pyplot as plt\n",
        "\n",
        "from tensorflow.keras.models import Sequential\n",
        "from tensorflow.keras.layers import Dense\n",
        "from tensorflow.keras.utils import to_categorical\n",
        "\n",
        "# Function print confusion matrix \n",
        "def plot_confusion_matrix(predictions, y_test):\n",
        "    cm = confusion_matrix(predictions, y_test)\n",
        "    plt.subplots()\n",
        "    sns.heatmap(cm, fmt=\".0f\", annot=True)\n",
        "    plt.title(\"Confusion matrix\")\n",
        "    plt.xlabel(\"Actual label\")\n",
        "    plt.ylabel(\"Predicted label\")\n",
        "\n",
        "def create_feedforward_nn(input_dim, num_classes):\n",
        "    model = Sequential()\n",
        "    model.add(Dense(256, activation='relu', input_dim=input_dim))\n",
        "    model.add(Dense(128, activation='relu'))\n",
        "    model.add(Dense(64, activation='relu'))\n",
        "    model.add(Dense(num_classes, activation='softmax'))\n",
        "    model.compile(optimizer='adam', loss='binary_crossentropy', metrics=['accuracy'])\n",
        "    return model\n",
        "\n",
        "def classify(X, y, label_pair):\n",
        "    label1, label2 = label_pair\n",
        "\n",
        "    # Filter the dataframe to include only the specified labels\n",
        "    dataframe = pd.DataFrame({'vector': list(X), 'label': list(y)})\n",
        "    dataframe = dataframe[dataframe['label'].isin(label_pair)]\n",
        "\n",
        "    # Prepare the input data (X) and labels (y)\n",
        "    X = np.array([np.array(x) for x in dataframe['vector']])\n",
        "    y = np.array(dataframe['label'])\n",
        "\n",
        "    # Convert labels to 0 and 1\n",
        "    y = np.where(y == label1, 0, 1)\n",
        "\n",
        "    # Normalize the input data\n",
        "    scaler = StandardScaler()\n",
        "    X = scaler.fit_transform(X)\n",
        "\n",
        "    # Cross-validate the feedforward neural network classifier\n",
        "    skf = StratifiedKFold(n_splits=5, shuffle=True)\n",
        "    accuracies = []\n",
        "    for i, (train_index, test_index) in enumerate(skf.split(X, y)):\n",
        "        X_train, X_test = X[train_index], X[test_index]\n",
        "        y_train, y_test = y[train_index], y[test_index]\n",
        "        y_train_cat, y_test_cat = to_categorical(y_train), to_categorical(y_test)\n",
        "        model = create_feedforward_nn(input_dim=X.shape[1], num_classes=2)\n",
        "        model.fit(X_train, y_train_cat, epochs=100, batch_size=32, verbose=0)\n",
        "        _, accuracy = model.evaluate(X_test, y_test_cat, verbose=0)\n",
        "        accuracies.append(accuracy)\n",
        "        print(f\"Iteration {i+1}: Test accuracy: {accuracy * 100:.2f}%\")\n",
        "\n",
        "        # Print confusion matrix and classification report\n",
        "        predictions = np.argmax(model.predict(X_test), axis=-1)\n",
        "        plot_confusion_matrix(predictions, y_test)\n",
        "        cr = classification_report(y_test, predictions, target_names=['Negative', 'Positive'])\n",
        "        # print(f\"\\nClassification report for iteration {i+1}:\\n{cr}\\n\")\n",
        "\n",
        "    # Calculate the average accuracy and standard deviation\n",
        "    avg_accuracy = np.mean(accuracies)\n",
        "    std_deviation = np.std(accuracies)\n",
        "    print(f\"Average accuracy: {avg_accuracy * 100:.2f}%\")\n",
        "    print(f\"Standard deviation: {std_deviation * 100:.2f}%\\n\")\n",
        "    return avg_accuracy, std_deviation\n",
        "\n"
      ]
    },
    {
      "cell_type": "code",
      "source": [
        "if __name__ == '__main__':\n",
        "    # Load the saved dataframe\n",
        "    dataframe = pd.read_pickle('combined_dataframe.pkl')\n",
        "\n",
        "    # Classify 'ב' vs 'מ'\n",
        "    print(\"************* Classify 'ב' vs 'מ' *************\")\n",
        "    label_pair = [1, 3]\n",
        "    classify(dataframe['vector'], dataframe['label'], label_pair)\n",
        "\n",
        "    # Classify 'ב' vs 'ל'\n",
        "    print(\"************* Classify 'ב' vs 'ל' *************\")\n",
        "    label_pair = [1, 2]\n",
        "    classify(dataframe['vector'], dataframe['label'], label_pair)\n",
        "\n",
        "    # Classify 'מ' vs 'ל'\n",
        "    print(\"************* Classify 'ל' vs 'מ' *************\")\n",
        "    label_pair = [2, 3]\n",
        "    classify(dataframe['vector'], dataframe['label'], label_pair)"
      ],
      "metadata": {
        "colab": {
          "base_uri": "https://localhost:8080/"
        },
        "id": "If9lVH_Nrd9t",
        "outputId": "8828caa9-1ebf-44db-845a-52136dbd8319"
      },
      "execution_count": null,
      "outputs": [
        {
          "output_type": "stream",
          "name": "stdout",
          "text": [
            "************* Classify 'ב' vs 'מ' *************\n",
            "Iteration 1: Test accuracy: 90.27%\n",
            "11/11 [==============================] - 0s 2ms/step\n",
            "Iteration 2: Test accuracy: 89.33%\n",
            "11/11 [==============================] - 0s 2ms/step\n",
            "Iteration 3: Test accuracy: 90.24%\n",
            "11/11 [==============================] - 0s 2ms/step\n",
            "Iteration 4: Test accuracy: 89.02%\n",
            "11/11 [==============================] - 1s 2ms/step\n",
            "Iteration 5: Test accuracy: 91.16%\n",
            "11/11 [==============================] - 0s 3ms/step\n",
            "Average accuracy: 90.01%\n",
            "Standard deviation: 0.76%\n",
            "\n",
            "************* Classify 'ב' vs 'ל' *************\n"
          ]
        }
      ]
    }
  ]
}